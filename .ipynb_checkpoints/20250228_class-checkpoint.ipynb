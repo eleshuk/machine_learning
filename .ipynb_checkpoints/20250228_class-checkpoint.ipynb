{
 "cells": [
  {
   "cell_type": "code",
   "execution_count": 3,
   "id": "1967b2ef-a057-4290-8ed2-aec0f75d7675",
   "metadata": {},
   "outputs": [],
   "source": [
    "import numpy as np\n",
    "import pandas as pd"
   ]
  },
  {
   "cell_type": "code",
   "execution_count": 8,
   "id": "3546806c-b42f-4655-8e5b-bfb525d5855f",
   "metadata": {},
   "outputs": [],
   "source": [
    "# Create class LinearRegression\n",
    "import numpy as np\n",
    "\n",
    "class LinearRegression:\n",
    "    def __init__(self, learning_rate=0.1, max_iter=1000):\n",
    "        self.learning_rate = learning_rate\n",
    "        self.max_iter = max_iter\n",
    "        self.weights = None\n",
    "        self.bias = None\n",
    "    \n",
    "    def fit(self, X, y):\n",
    "        \"\"\"\n",
    "        Fit the model using gradient descent.\n",
    "        Gets the variables and the response\n",
    "        \"\"\"\n",
    "        n_samples, n_features = X.shape\n",
    "        self.weights = np.zeros((n_features, 1))\n",
    "        self.bias = 0\n",
    "        \n",
    "        for _ in range(self.max_iter):\n",
    "            y_predicted = np.dot(X, self.weights) + self.bias\n",
    "            \n",
    "            dw = (1 / n_samples) * np.dot(X.T, (y_predicted - y))\n",
    "            db = (1 / n_samples) * np.sum(y_predicted - y)\n",
    "            \n",
    "            self.weights -= self.learning_rate * dw\n",
    "            self.bias -= self.learning_rate * db\n",
    "    \n",
    "    def predict(self, X):\n",
    "        \"\"\"\n",
    "        Make predictions using the trained model.\n",
    "        \"\"\"\n",
    "        return np.dot(X, self.weights) + self.bias\n"
   ]
  },
  {
   "cell_type": "code",
   "execution_count": 11,
   "id": "89461df8-bb2d-4045-ba31-b03a8f776c4e",
   "metadata": {},
   "outputs": [
    {
     "name": "stdout",
     "output_type": "stream",
     "text": [
      "Prediction for X=0.5: [3.51907456]\n"
     ]
    }
   ],
   "source": [
    "# Create synthetic data\n",
    "np.random.seed(0)\n",
    "X = np.random.rand(100, 1) # array with 100 rows and 1 column (1 feature)\n",
    "y = 2 + 3 * X + np.random.randn(100, 1) * 0.1\n",
    "# Create and train the model\n",
    "model = LinearRegression(learning_rate=0.1, max_iter=1000)\n",
    "model.fit(X, y)\n",
    "# Make predictions\n",
    "X_test = np.array([[0.5]])\n",
    "y_pred = model.predict(X_test)\n",
    "print(f\"Prediction for X=0.5: {y_pred[0]}\")"
   ]
  },
  {
   "cell_type": "code",
   "execution_count": null,
   "id": "81daf283-5e45-44bc-9350-ef556cb5ef82",
   "metadata": {},
   "outputs": [],
   "source": []
  }
 ],
 "metadata": {
  "kernelspec": {
   "display_name": "Python 3 (ipykernel)",
   "language": "python",
   "name": "python3"
  },
  "language_info": {
   "codemirror_mode": {
    "name": "ipython",
    "version": 3
   },
   "file_extension": ".py",
   "mimetype": "text/x-python",
   "name": "python",
   "nbconvert_exporter": "python",
   "pygments_lexer": "ipython3",
   "version": "3.12.6"
  }
 },
 "nbformat": 4,
 "nbformat_minor": 5
}
