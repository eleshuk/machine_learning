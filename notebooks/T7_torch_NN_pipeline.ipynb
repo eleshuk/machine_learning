{
  "nbformat": 4,
  "nbformat_minor": 0,
  "metadata": {
    "colab": {
      "provenance": [],
      "toc_visible": true,
      "gpuType": "T4",
      "include_colab_link": true
    },
    "kernelspec": {
      "name": "python3",
      "display_name": "Python 3"
    },
    "language_info": {
      "name": "python"
    }
  },
  "cells": [
    {
      "cell_type": "markdown",
      "metadata": {
        "id": "view-in-github",
        "colab_type": "text"
      },
      "source": [
        "<a href=\"https://colab.research.google.com/github/eleshuk/machine_learning/blob/main/notebooks/T7_torch_NN_pipeline.ipynb\" target=\"_parent\"><img src=\"https://colab.research.google.com/assets/colab-badge.svg\" alt=\"Open In Colab\"/></a>"
      ]
    },
    {
      "cell_type": "markdown",
      "source": [
        "**Pipeline for deep learning with PyTorch**"
      ],
      "metadata": {
        "id": "brWO6qD2tGcz"
      }
    },
    {
      "cell_type": "markdown",
      "source": [
        "## Major steps from data to deployment"
      ],
      "metadata": {
        "id": "zWBPqUp3sp88"
      }
    },
    {
      "cell_type": "markdown",
      "source": [
        "| Step                | Key Actions                                                                | Main PyTorch Classes/Methods                  |\n",
        "|---------------------|----------------------------------------------------------------------------|-----------------------------------------------|\n",
        "| Data Preparation    | Load, transform, batch, and split data                                     | `torch.utils.data.Dataset`, `DataLoader`, `torchvision.transforms`  |\n",
        "| Model Development   | Define architecture, choose loss/optimizer, set hyperparameters            | `torch.nn.Module`, `torch.nn.Parameter`, `torch.nn.functional`, `torch.optim` |\n",
        "| Model Training      | Forward pass, loss computation, backward pass, parameter update, epochs    | `forward()`, `loss.backward()`, `optimizer.step()`, `optimizer.zero_grad()` , `model.train()` |\n",
        "| Validation          | Evaluate on validation set, compute metrics, tune hyperparameters          | `model.eval()`, `torch.no_grad()`, metric functions (e.g., `torchmetrics`) |\n",
        "| Testing/Deployment  | Final evaluation on test set, save and deploy model                        | `torch.save()`, `torch.load()`, `model.eval()`, `torch.jit` |"
      ],
      "metadata": {
        "id": "qvy0Exkos1kJ"
      }
    },
    {
      "cell_type": "markdown",
      "source": [
        "## Typical training loop."
      ],
      "metadata": {
        "id": "mwQHqRK_s5xK"
      }
    },
    {
      "cell_type": "markdown",
      "source": [
        "Recall that the whole set of examples is visited during one epoch. Moreover, the *dataloader* groups examples in batches, and defines some other functionalities like shuffling the examples each time the iterator is created with `for inputs, targets in dataloader` in the example below.\n",
        "\n",
        "For standard neural network training in PyTorch, inputs and targets should be tensors. This can be dealt with in the *data preparation* step, using `transforms` when creating the custom `Dataset` class for the problem at hand (see https://github.com/isa-ulisboa/greends-pml/blob/main/notebooks/T6_pytorch_dataset_dataloader.ipynb).\n",
        "\n",
        "As discussed in https://github.com/isa-ulisboa/greends-pml/blob/main/docs/T1_basic_concepts.md for a simple linear regression problem, PyTorch uses **backpropagation** as the strategy to updates the model weights for loss minimization. The exact same idea can be generalized to multilayer neural networks and deep-learning.\n",
        "\n",
        "The typical training loop in PyTorch is described in the code below.\n",
        "1. The forward pass is done with `model(inputs)` that applies the model to the input and computes the output. This is a probability distribution over the possible labels.\n",
        "2. The backward pass is done with `optimizer.step()` using the gradient computed with `loss.backward()`. The loss, as always, depends on the actual output `target` and the predicted output `outputs`. The line of code `optimizer.zero_grad()` prevents the gradients to be summed up along the process. For  backpropagation to work, the model must be in training mode, which it is set by default or by setting `model.train()`.\n",
        "\n",
        "  ```\n",
        "  for epoch in range(num_epochs):\n",
        "      for inputs, targets in dataloader:\n",
        "          optimizer.zero_grad()\n",
        "          outputs = model(inputs)\n",
        "          loss = criterion(outputs, targets)\n",
        "          loss.backward()\n",
        "          optimizer.step()\n",
        "  ```"
      ],
      "metadata": {
        "id": "fIH-oFMrslAr"
      }
    },
    {
      "cell_type": "markdown",
      "source": [
        "## Example for data preparation and model training: the MNIST data set"
      ],
      "metadata": {
        "id": "mS9LoMjytWKa"
      }
    },
    {
      "cell_type": "markdown",
      "source": [
        "### Step 1: Data preparation"
      ],
      "metadata": {
        "id": "FO176GNHrKrc"
      }
    },
    {
      "cell_type": "code",
      "source": [
        "!pip install torchvision\n",
        "\n",
        "import torch\n",
        "import torch.nn as nn\n",
        "import torch.optim as optim\n",
        "from torchvision import datasets, transforms\n",
        "from torch.utils.data import DataLoader\n",
        "import matplotlib.pyplot as plt\n",
        "import time"
      ],
      "metadata": {
        "collapsed": true,
        "id": "i3Hwef1Jzdi7",
        "outputId": "10c83b3b-8013-4e93-969f-15f6fb47017b",
        "colab": {
          "base_uri": "https://localhost:8080/"
        }
      },
      "execution_count": 7,
      "outputs": [
        {
          "output_type": "stream",
          "name": "stdout",
          "text": [
            "Requirement already satisfied: torchvision in /usr/local/lib/python3.11/dist-packages (0.21.0+cu124)\n",
            "Requirement already satisfied: numpy in /usr/local/lib/python3.11/dist-packages (from torchvision) (2.0.2)\n",
            "Requirement already satisfied: torch==2.6.0 in /usr/local/lib/python3.11/dist-packages (from torchvision) (2.6.0+cu124)\n",
            "Requirement already satisfied: pillow!=8.3.*,>=5.3.0 in /usr/local/lib/python3.11/dist-packages (from torchvision) (11.2.1)\n",
            "Requirement already satisfied: filelock in /usr/local/lib/python3.11/dist-packages (from torch==2.6.0->torchvision) (3.18.0)\n",
            "Requirement already satisfied: typing-extensions>=4.10.0 in /usr/local/lib/python3.11/dist-packages (from torch==2.6.0->torchvision) (4.13.2)\n",
            "Requirement already satisfied: networkx in /usr/local/lib/python3.11/dist-packages (from torch==2.6.0->torchvision) (3.4.2)\n",
            "Requirement already satisfied: jinja2 in /usr/local/lib/python3.11/dist-packages (from torch==2.6.0->torchvision) (3.1.6)\n",
            "Requirement already satisfied: fsspec in /usr/local/lib/python3.11/dist-packages (from torch==2.6.0->torchvision) (2025.3.2)\n",
            "Collecting nvidia-cuda-nvrtc-cu12==12.4.127 (from torch==2.6.0->torchvision)\n",
            "  Downloading nvidia_cuda_nvrtc_cu12-12.4.127-py3-none-manylinux2014_x86_64.whl.metadata (1.5 kB)\n",
            "Collecting nvidia-cuda-runtime-cu12==12.4.127 (from torch==2.6.0->torchvision)\n",
            "  Downloading nvidia_cuda_runtime_cu12-12.4.127-py3-none-manylinux2014_x86_64.whl.metadata (1.5 kB)\n",
            "Collecting nvidia-cuda-cupti-cu12==12.4.127 (from torch==2.6.0->torchvision)\n",
            "  Downloading nvidia_cuda_cupti_cu12-12.4.127-py3-none-manylinux2014_x86_64.whl.metadata (1.6 kB)\n",
            "Collecting nvidia-cudnn-cu12==9.1.0.70 (from torch==2.6.0->torchvision)\n",
            "  Downloading nvidia_cudnn_cu12-9.1.0.70-py3-none-manylinux2014_x86_64.whl.metadata (1.6 kB)\n",
            "Collecting nvidia-cublas-cu12==12.4.5.8 (from torch==2.6.0->torchvision)\n",
            "  Downloading nvidia_cublas_cu12-12.4.5.8-py3-none-manylinux2014_x86_64.whl.metadata (1.5 kB)\n",
            "Collecting nvidia-cufft-cu12==11.2.1.3 (from torch==2.6.0->torchvision)\n",
            "  Downloading nvidia_cufft_cu12-11.2.1.3-py3-none-manylinux2014_x86_64.whl.metadata (1.5 kB)\n",
            "Collecting nvidia-curand-cu12==10.3.5.147 (from torch==2.6.0->torchvision)\n",
            "  Downloading nvidia_curand_cu12-10.3.5.147-py3-none-manylinux2014_x86_64.whl.metadata (1.5 kB)\n",
            "Collecting nvidia-cusolver-cu12==11.6.1.9 (from torch==2.6.0->torchvision)\n",
            "  Downloading nvidia_cusolver_cu12-11.6.1.9-py3-none-manylinux2014_x86_64.whl.metadata (1.6 kB)\n",
            "Collecting nvidia-cusparse-cu12==12.3.1.170 (from torch==2.6.0->torchvision)\n",
            "  Downloading nvidia_cusparse_cu12-12.3.1.170-py3-none-manylinux2014_x86_64.whl.metadata (1.6 kB)\n",
            "Requirement already satisfied: nvidia-cusparselt-cu12==0.6.2 in /usr/local/lib/python3.11/dist-packages (from torch==2.6.0->torchvision) (0.6.2)\n",
            "Requirement already satisfied: nvidia-nccl-cu12==2.21.5 in /usr/local/lib/python3.11/dist-packages (from torch==2.6.0->torchvision) (2.21.5)\n",
            "Requirement already satisfied: nvidia-nvtx-cu12==12.4.127 in /usr/local/lib/python3.11/dist-packages (from torch==2.6.0->torchvision) (12.4.127)\n",
            "Collecting nvidia-nvjitlink-cu12==12.4.127 (from torch==2.6.0->torchvision)\n",
            "  Downloading nvidia_nvjitlink_cu12-12.4.127-py3-none-manylinux2014_x86_64.whl.metadata (1.5 kB)\n",
            "Requirement already satisfied: triton==3.2.0 in /usr/local/lib/python3.11/dist-packages (from torch==2.6.0->torchvision) (3.2.0)\n",
            "Requirement already satisfied: sympy==1.13.1 in /usr/local/lib/python3.11/dist-packages (from torch==2.6.0->torchvision) (1.13.1)\n",
            "Requirement already satisfied: mpmath<1.4,>=1.1.0 in /usr/local/lib/python3.11/dist-packages (from sympy==1.13.1->torch==2.6.0->torchvision) (1.3.0)\n",
            "Requirement already satisfied: MarkupSafe>=2.0 in /usr/local/lib/python3.11/dist-packages (from jinja2->torch==2.6.0->torchvision) (3.0.2)\n",
            "Downloading nvidia_cublas_cu12-12.4.5.8-py3-none-manylinux2014_x86_64.whl (363.4 MB)\n",
            "\u001b[2K   \u001b[90m━━━━━━━━━━━━━━━━━━━━━━━━━━━━━━━━━━━━━━━━\u001b[0m \u001b[32m363.4/363.4 MB\u001b[0m \u001b[31m2.6 MB/s\u001b[0m eta \u001b[36m0:00:00\u001b[0m\n",
            "\u001b[?25hDownloading nvidia_cuda_cupti_cu12-12.4.127-py3-none-manylinux2014_x86_64.whl (13.8 MB)\n",
            "\u001b[2K   \u001b[90m━━━━━━━━━━━━━━━━━━━━━━━━━━━━━━━━━━━━━━━━\u001b[0m \u001b[32m13.8/13.8 MB\u001b[0m \u001b[31m24.3 MB/s\u001b[0m eta \u001b[36m0:00:00\u001b[0m\n",
            "\u001b[?25hDownloading nvidia_cuda_nvrtc_cu12-12.4.127-py3-none-manylinux2014_x86_64.whl (24.6 MB)\n",
            "\u001b[2K   \u001b[90m━━━━━━━━━━━━━━━━━━━━━━━━━━━━━━━━━━━━━━━━\u001b[0m \u001b[32m24.6/24.6 MB\u001b[0m \u001b[31m11.1 MB/s\u001b[0m eta \u001b[36m0:00:00\u001b[0m\n",
            "\u001b[?25hDownloading nvidia_cuda_runtime_cu12-12.4.127-py3-none-manylinux2014_x86_64.whl (883 kB)\n",
            "\u001b[2K   \u001b[90m━━━━━━━━━━━━━━━━━━━━━━━━━━━━━━━━━━━━━━━━\u001b[0m \u001b[32m883.7/883.7 kB\u001b[0m \u001b[31m21.8 MB/s\u001b[0m eta \u001b[36m0:00:00\u001b[0m\n",
            "\u001b[?25hDownloading nvidia_cudnn_cu12-9.1.0.70-py3-none-manylinux2014_x86_64.whl (664.8 MB)\n",
            "\u001b[2K   \u001b[90m━━━━━━━━━━━━━━━━━━━━━━━━━━━━━━━━━━━━━━━━\u001b[0m \u001b[32m664.8/664.8 MB\u001b[0m \u001b[31m2.6 MB/s\u001b[0m eta \u001b[36m0:00:00\u001b[0m\n",
            "\u001b[?25hDownloading nvidia_cufft_cu12-11.2.1.3-py3-none-manylinux2014_x86_64.whl (211.5 MB)\n",
            "\u001b[2K   \u001b[90m━━━━━━━━━━━━━━━━━━━━━━━━━━━━━━━━━━━━━━━━\u001b[0m \u001b[32m211.5/211.5 MB\u001b[0m \u001b[31m5.3 MB/s\u001b[0m eta \u001b[36m0:00:00\u001b[0m\n",
            "\u001b[?25hDownloading nvidia_curand_cu12-10.3.5.147-py3-none-manylinux2014_x86_64.whl (56.3 MB)\n",
            "\u001b[2K   \u001b[90m━━━━━━━━━━━━━━━━━━━━━━━━━━━━━━━━━━━━━━━━\u001b[0m \u001b[32m56.3/56.3 MB\u001b[0m \u001b[31m11.2 MB/s\u001b[0m eta \u001b[36m0:00:00\u001b[0m\n",
            "\u001b[?25hDownloading nvidia_cusolver_cu12-11.6.1.9-py3-none-manylinux2014_x86_64.whl (127.9 MB)\n",
            "\u001b[2K   \u001b[90m━━━━━━━━━━━━━━━━━━━━━━━━━━━━━━━━━━━━━━━━\u001b[0m \u001b[32m127.9/127.9 MB\u001b[0m \u001b[31m6.8 MB/s\u001b[0m eta \u001b[36m0:00:00\u001b[0m\n",
            "\u001b[?25hDownloading nvidia_cusparse_cu12-12.3.1.170-py3-none-manylinux2014_x86_64.whl (207.5 MB)\n",
            "\u001b[2K   \u001b[90m━━━━━━━━━━━━━━━━━━━━━━━━━━━━━━━━━━━━━━━━\u001b[0m \u001b[32m207.5/207.5 MB\u001b[0m \u001b[31m4.8 MB/s\u001b[0m eta \u001b[36m0:00:00\u001b[0m\n",
            "\u001b[?25hDownloading nvidia_nvjitlink_cu12-12.4.127-py3-none-manylinux2014_x86_64.whl (21.1 MB)\n",
            "\u001b[2K   \u001b[90m━━━━━━━━━━━━━━━━━━━━━━━━━━━━━━━━━━━━━━━━\u001b[0m \u001b[32m21.1/21.1 MB\u001b[0m \u001b[31m45.3 MB/s\u001b[0m eta \u001b[36m0:00:00\u001b[0m\n",
            "\u001b[?25hInstalling collected packages: nvidia-nvjitlink-cu12, nvidia-curand-cu12, nvidia-cufft-cu12, nvidia-cuda-runtime-cu12, nvidia-cuda-nvrtc-cu12, nvidia-cuda-cupti-cu12, nvidia-cublas-cu12, nvidia-cusparse-cu12, nvidia-cudnn-cu12, nvidia-cusolver-cu12\n",
            "  Attempting uninstall: nvidia-nvjitlink-cu12\n",
            "    Found existing installation: nvidia-nvjitlink-cu12 12.5.82\n",
            "    Uninstalling nvidia-nvjitlink-cu12-12.5.82:\n",
            "      Successfully uninstalled nvidia-nvjitlink-cu12-12.5.82\n",
            "  Attempting uninstall: nvidia-curand-cu12\n",
            "    Found existing installation: nvidia-curand-cu12 10.3.6.82\n",
            "    Uninstalling nvidia-curand-cu12-10.3.6.82:\n",
            "      Successfully uninstalled nvidia-curand-cu12-10.3.6.82\n",
            "  Attempting uninstall: nvidia-cufft-cu12\n",
            "    Found existing installation: nvidia-cufft-cu12 11.2.3.61\n",
            "    Uninstalling nvidia-cufft-cu12-11.2.3.61:\n",
            "      Successfully uninstalled nvidia-cufft-cu12-11.2.3.61\n",
            "  Attempting uninstall: nvidia-cuda-runtime-cu12\n",
            "    Found existing installation: nvidia-cuda-runtime-cu12 12.5.82\n",
            "    Uninstalling nvidia-cuda-runtime-cu12-12.5.82:\n",
            "      Successfully uninstalled nvidia-cuda-runtime-cu12-12.5.82\n",
            "  Attempting uninstall: nvidia-cuda-nvrtc-cu12\n",
            "    Found existing installation: nvidia-cuda-nvrtc-cu12 12.5.82\n",
            "    Uninstalling nvidia-cuda-nvrtc-cu12-12.5.82:\n",
            "      Successfully uninstalled nvidia-cuda-nvrtc-cu12-12.5.82\n",
            "  Attempting uninstall: nvidia-cuda-cupti-cu12\n",
            "    Found existing installation: nvidia-cuda-cupti-cu12 12.5.82\n",
            "    Uninstalling nvidia-cuda-cupti-cu12-12.5.82:\n",
            "      Successfully uninstalled nvidia-cuda-cupti-cu12-12.5.82\n",
            "  Attempting uninstall: nvidia-cublas-cu12\n",
            "    Found existing installation: nvidia-cublas-cu12 12.5.3.2\n",
            "    Uninstalling nvidia-cublas-cu12-12.5.3.2:\n",
            "      Successfully uninstalled nvidia-cublas-cu12-12.5.3.2\n",
            "  Attempting uninstall: nvidia-cusparse-cu12\n",
            "    Found existing installation: nvidia-cusparse-cu12 12.5.1.3\n",
            "    Uninstalling nvidia-cusparse-cu12-12.5.1.3:\n",
            "      Successfully uninstalled nvidia-cusparse-cu12-12.5.1.3\n",
            "  Attempting uninstall: nvidia-cudnn-cu12\n",
            "    Found existing installation: nvidia-cudnn-cu12 9.3.0.75\n",
            "    Uninstalling nvidia-cudnn-cu12-9.3.0.75:\n",
            "      Successfully uninstalled nvidia-cudnn-cu12-9.3.0.75\n",
            "  Attempting uninstall: nvidia-cusolver-cu12\n",
            "    Found existing installation: nvidia-cusolver-cu12 11.6.3.83\n",
            "    Uninstalling nvidia-cusolver-cu12-11.6.3.83:\n",
            "      Successfully uninstalled nvidia-cusolver-cu12-11.6.3.83\n",
            "Successfully installed nvidia-cublas-cu12-12.4.5.8 nvidia-cuda-cupti-cu12-12.4.127 nvidia-cuda-nvrtc-cu12-12.4.127 nvidia-cuda-runtime-cu12-12.4.127 nvidia-cudnn-cu12-9.1.0.70 nvidia-cufft-cu12-11.2.1.3 nvidia-curand-cu12-10.3.5.147 nvidia-cusolver-cu12-11.6.1.9 nvidia-cusparse-cu12-12.3.1.170 nvidia-nvjitlink-cu12-12.4.127\n"
          ]
        }
      ]
    },
    {
      "cell_type": "code",
      "source": [
        "# Define a transformation to flatten the 8x8 images - returns tensor (64 pixels per image)\n",
        "transform = transforms.Compose([\n",
        "    transforms.Resize((8, 8)),         # Resize the PIL Image to 8x8 first (MNIST images are originally 28x28)\n",
        "    transforms.ToTensor(),             # Then convert to tensor\n",
        "    transforms.Lambda(lambda x: x.view(-1))  # Finally, flatten the tensor\n",
        "])\n",
        "\n",
        "# Load the MNIST dataset\n",
        "train_dataset = datasets.MNIST(root='./data', train=True, download=True, transform=transform)\n",
        "test_dataset = datasets.MNIST(root='./data', train=False, download=True, transform=transform)\n",
        "\n",
        "# Create DataLoaders\n",
        "batch_size = 64\n",
        "train_loader = DataLoader(train_dataset, batch_size=batch_size, shuffle=True)\n",
        "# Shuffle false for test - test is not going to be used to improve the weights (minimize the loss)\n",
        "\n",
        "test_loader = DataLoader(test_dataset, batch_size=batch_size, shuffle=False)"
      ],
      "metadata": {
        "collapsed": true,
        "id": "Xd5AJl9TrYTB",
        "outputId": "463a012f-84bc-4c69-bf75-d7b82a001907",
        "colab": {
          "base_uri": "https://localhost:8080/"
        }
      },
      "execution_count": 8,
      "outputs": [
        {
          "output_type": "stream",
          "name": "stderr",
          "text": [
            "100%|██████████| 9.91M/9.91M [00:00<00:00, 15.7MB/s]\n",
            "100%|██████████| 28.9k/28.9k [00:00<00:00, 480kB/s]\n",
            "100%|██████████| 1.65M/1.65M [00:00<00:00, 3.83MB/s]\n",
            "100%|██████████| 4.54k/4.54k [00:00<00:00, 3.98MB/s]\n"
          ]
        }
      ]
    },
    {
      "cell_type": "markdown",
      "source": [
        "**Question**. Dataloaders `train_loader` and `test_loader` are iterators which allow to access examples and labels.\n",
        "- What is the type of objects yielded by the train and test dataloaders?\n",
        "- What is the *shape* of `images` returned by `for images, labels in train_loader`? How do you interpret that shape?\n",
        "- Why dataloaders for train and test differ with respect to the option `shuffle`?"
      ],
      "metadata": {
        "id": "a3CSKLq7rfml"
      }
    },
    {
      "cell_type": "markdown",
      "source": [
        "#### Visualize some examples and labels"
      ],
      "metadata": {
        "id": "h_HCmOqQ3Jp0"
      }
    },
    {
      "cell_type": "markdown",
      "source": [
        "Since the `transform` that was applied above returns flattened tensors, one needs to unflatten them to be able to create an image that can be plotted."
      ],
      "metadata": {
        "id": "GwidFLlG4Hdc"
      }
    },
    {
      "cell_type": "code",
      "source": [
        "# Assuming each image is a 1D tensor of length 64 (8*8)\n",
        "images, labels = zip(*[train_dataset[i] for i in range(12)])\n",
        "\n",
        "fig, axes = plt.subplots(3, 4, figsize=(9, 12))\n",
        "for i, ax in enumerate(axes.flat):\n",
        "    img = images[i].reshape(8, 8)  # Unflatten to 2D\n",
        "    ax.imshow(img, cmap='gray')\n",
        "    ax.set_title(str(labels[i]), fontsize=12)\n",
        "    ax.axis('off')\n",
        "\n",
        "plt.tight_layout()\n",
        "plt.show()"
      ],
      "metadata": {
        "id": "j4vJWgbk4rqa",
        "outputId": "b085c204-2223-427a-f982-95c05ada32e4",
        "colab": {
          "base_uri": "https://localhost:8080/",
          "height": 990
        }
      },
      "execution_count": 9,
      "outputs": [
        {
          "output_type": "display_data",
          "data": {
            "text/plain": [
              "<Figure size 900x1200 with 12 Axes>"
            ],
            "image/png": "[encoded data removed]"
          },
          "metadata": {}
        }
      ]
    },
    {
      "cell_type": "markdown",
      "source": [
        "### Step 2: model development"
      ],
      "metadata": {
        "id": "_vO5PdL9w0EQ"
      }
    },
    {
      "cell_type": "code",
      "source": [
        "# Model Development: the model is a multilayer perceptron with one hidden layer\n",
        "class SimpleNN(nn.Module):\n",
        "    def __init__(self, input_size, hidden_size, num_classes):\n",
        "        super(SimpleNN, self).__init__()\n",
        "        self.fc1 = nn.Linear(input_size, hidden_size)\n",
        "        self.relu = nn.ReLU()\n",
        "        self.fc2 = nn.Linear(hidden_size, num_classes)\n",
        "\n",
        "    def forward(self, x):\n",
        "        out = self.fc1(x)\n",
        "        out = self.relu(out)\n",
        "        out = self.fc2(out)\n",
        "        return out\n",
        "\n",
        "# Since we are using 8x8 MNIST and flatenning the input, the input size is 8 * 8 = 64\n",
        "input_size = 8 * 8\n",
        "hidden_size = 128\n",
        "num_classes = 10 # 0-9 digits\n",
        "\n",
        "model = SimpleNN(input_size, hidden_size, num_classes)"
      ],
      "metadata": {
        "id": "Onqhot-Fw-mX"
      },
      "execution_count": 10,
      "outputs": []
    },
    {
      "cell_type": "markdown",
      "source": [
        "**Question**:\n",
        "- The model architecture depends on the input data shape. The input images of MNIST are originally of size $28 \\times 28$ but they have been resized to $8 \\times 8$ pixels. Which changes do you need to do in the script to use size $16 \\times 16$? And if you just want to use the original $28 \\times 28$ size?\n",
        "- Which change you need to do in the `SimpleNN` class if you want your model to have two hidden layers?\n",
        "- What is a `ReLU` activation function?\n",
        "- Why are non linear activation functions like `ReLU` necessary for deep learning?"
      ],
      "metadata": {
        "id": "mnMeUXCF3dy3"
      }
    },
    {
      "cell_type": "code",
      "source": [
        "# Loss and optimizer: necessary for training\n",
        "criterion = nn.CrossEntropyLoss()\n",
        "optimizer = optim.Adam(model.parameters(), lr=0.001)"
      ],
      "metadata": {
        "id": "Vtw8lcI6jAVE"
      },
      "execution_count": 11,
      "outputs": []
    },
    {
      "cell_type": "markdown",
      "source": [
        "#### Some details about cross entropy, softmax, one hot encoding and distributions"
      ],
      "metadata": {
        "id": "gulOWspDnA5s"
      }
    },
    {
      "cell_type": "markdown",
      "source": [
        "Since the problem is a *classification problem*, the criterion to compare model predictions with actual labels (what was denoted be $y$ and $\\hat{y}$ for regression) is typically `criterion = nn.CrossEntropyLoss()`. This function has two arguments:\n",
        "1. the output of the model (a list of scores returned by the model for each possible class, where the largest score corresponds to the most likely class) and\n",
        "2. the target, which is the actual label of example. For instance if there are 10 classes $0, 1, \\dots, 9$, the output would be a list like $[0.3,1.2,2.5,0.2,...]$ with 10 values, and the target could be 2 for instance.\n",
        "\n",
        "The `nn.CrossEntropyLoss()` function will internally process the scores an the target the following way.\n",
        "\n",
        "1. **Scores**. The unormalized model outputs $f_1, \\dots, f_k$ are called *scores*, *logits* or *raw* outputs. Each score $z_i=f_i({\\rm \\bf x};{\\rm \\bf w_i})$ is converted into a [0,1] value by the *softmax* function:\n",
        "$$p_i=\\frac{\\exp(z_i)}{\\sum_{j=1}^k \\exp(z_j)} ~~ {\\rm which~implies~that} ~~ 0<p_i \\le 1.$$\n",
        "After that transformation, the classification model's probabilistic output is a vector of values $(p_1,\\dots,p_k)$, with $p_i \\ge 0$ and $\\sum p_i=1$ as required for  probability distributions. The predicted label is the one with highest $p$.\n",
        "\n",
        "<img src=\"https://drive.google.com/uc?export=view&id=1iD519g8QbBmOGp9SiOQsIneJnWg53SMQ\" width=\"600\" >\n",
        "\n",
        "\n",
        "2. **Target**. A target value of, say, 2 is one-hot-encoded into the list $[0,0,1,0,...,0]$ of length 10.\n",
        "\n",
        "The **cross-entropy loss** measures the dissimilarity between the probability distribution returned by *softmax* $(p_1,p_2,\\dots)$ and the one hor encoded target distribution $(t_1,t_2,\\dots)$ for each example. Its value range from 0 (optimal value associated to minimum uncertainty) and 1 (maximum value associated to maximum uncertainty, i.e. all probabilities are equal):\n",
        "\n",
        "$$L_{single~example}=-\\left( t_1 \\, \\log(p_1) + t_2 \\, \\log(p_2) + \\dots \\right) \\in [0,1].$$\n",
        "\n",
        "In the expression above, we suppose that the probabilities $p_i$ are non zero which is guaranteed by th e*softmax* function.\n",
        "\n",
        "For a batch of $n$ examples, the cross-entropy loss is given by the average of the $n$ individual loss values, where $L_i$ is the cross entropy for the $i$th example:\n",
        "\n",
        "$$L_{batch}=\\frac{1}{n} \\left( L_1+L_2+ \\dots,L_n\\right).$$\n"
      ],
      "metadata": {
        "id": "09jFxhNRjKpN"
      }
    },
    {
      "cell_type": "markdown",
      "source": [
        "### Step 3: Model training"
      ],
      "metadata": {
        "id": "-l47-KLnxD-f"
      }
    },
    {
      "cell_type": "code",
      "source": [
        "# number of epochs\n",
        "num_epochs = 3"
      ],
      "metadata": {
        "id": "CHPLcpqU04Pb"
      },
      "execution_count": 12,
      "outputs": []
    },
    {
      "cell_type": "markdown",
      "source": [
        "#### Typical training loop"
      ],
      "metadata": {
        "id": "E_-stmiP3Ddf"
      }
    },
    {
      "cell_type": "code",
      "source": [
        "for epoch in range(num_epochs):\n",
        "    print(f'epoch: {epoch+1}; time: {round(time.time())}')\n",
        "    model.train()\n",
        "    for images, labels in train_loader:\n",
        "        outputs = model(images)\n",
        "        loss = criterion(outputs, labels)\n",
        "        optimizer.zero_grad()\n",
        "        loss.backward()\n",
        "        optimizer.step()\n"
      ],
      "metadata": {
        "colab": {
          "base_uri": "https://localhost:8080/"
        },
        "id": "d9w34AQPxDH3",
        "outputId": "ee3c3320-7254-4fa8-a9a7-6f5784125af3"
      },
      "execution_count": 13,
      "outputs": [
        {
          "output_type": "stream",
          "name": "stdout",
          "text": [
            "epoch: 1; time: 1747409524\n",
            "epoch: 2; time: 1747409537\n",
            "epoch: 3; time: 1747409549\n"
          ]
        }
      ]
    },
    {
      "cell_type": "markdown",
      "source": [
        "#### Change device: run training on GPU"
      ],
      "metadata": {
        "id": "Vw-dljML3MN_"
      }
    },
    {
      "cell_type": "markdown",
      "source": [
        "Training involves many large matrix computations. In general, this is done faster if it is parellelized over multiple cores. One can determine which device, either `cuda` (for GPU) or `cpu`, is used for training. Both model and data must be moved to the right device."
      ],
      "metadata": {
        "id": "Rs9EvGm41Nt7"
      }
    },
    {
      "cell_type": "code",
      "source": [
        "device = torch.device(\"cuda\" if torch.cuda.is_available() else \"cpu\")\n",
        "print(f\"Using device: {device}\")\n",
        "\n",
        "model.to(device) #<<<<<<<<<< move model to device\n",
        "\n",
        "#move data to GPU\n",
        "for epoch in range(num_epochs):\n",
        "    print(f'epoch: {epoch+1}; time: {round(time.time())}')\n",
        "    model.train()\n",
        "    for images, labels in train_loader:\n",
        "        images = images.to(device)  #<<<<<<<<<< move data to device\n",
        "        labels = labels.to(device)  #<<<<<<<<<< move data to device\n",
        "        outputs = model(images)\n",
        "        loss = criterion(outputs, labels)\n",
        "        optimizer.zero_grad()\n",
        "        loss.backward()\n",
        "        optimizer.step()"
      ],
      "metadata": {
        "id": "ZxUKDQKbyomh",
        "colab": {
          "base_uri": "https://localhost:8080/"
        },
        "outputId": "c429c044-aeed-4918-865a-9b08ed118cfd"
      },
      "execution_count": 14,
      "outputs": [
        {
          "output_type": "stream",
          "name": "stdout",
          "text": [
            "Using device: cpu\n",
            "epoch: 1; time: 1747409598\n",
            "epoch: 2; time: 1747409610\n",
            "epoch: 3; time: 1747409622\n"
          ]
        }
      ]
    },
    {
      "cell_type": "markdown",
      "source": [
        "**Question**. Which of the following parameters that were defined earlier about the data, model or training you expect will drive computation time down when using GPU? Why?\n",
        "- image size;\n",
        "- number of nodes in the hidden layer;\n",
        "- loss function;\n",
        "- optimizer;\n",
        "\n",
        "\n"
      ],
      "metadata": {
        "id": "jBA0U1D82FfN"
      }
    },
    {
      "cell_type": "markdown",
      "source": [
        "### Step 4: Validation"
      ],
      "metadata": {
        "id": "V8DZljJx5Csm"
      }
    },
    {
      "cell_type": "markdown",
      "source": [
        "Validation is important for several goals, including:\n",
        "- to estimate the accuracy of the model for the task at hand;\n",
        "- to determine the optimal number of iterations (epochs);\n",
        "- to be able to tune the model choosing the best hyperparameters.\n",
        "\n",
        "Below, we will concentrate on the first two of those issues, and we will compare the estimated overall accuracy over the train and the test sets. In order to do this need to keep track of the intermediate results for each epoch and each batch of examples."
      ],
      "metadata": {
        "id": "mHGiUPJt5Gq-"
      }
    },
    {
      "cell_type": "code",
      "source": [
        "# Model Training\n",
        "num_epochs = 5\n",
        "\n",
        "# Computes the accuracy for a batch: outputs are probability-like values\n",
        "def compute_accuracy(outputs, labels):\n",
        "    _, predicted = torch.max(outputs.data, 1)\n",
        "    correct = (predicted == labels).sum().item()\n",
        "    total = len(labels)\n",
        "    return correct / total\n",
        "\n",
        "# History object to keep track of accuracy along epochs\n",
        "history = {'epoch': [], 'train_accuracy': [], 'val_accuracy': []}\n",
        "\n",
        "for epoch in range(num_epochs):\n",
        "    print(f'epoch: {epoch+1}; time: {round(time.time())}')\n",
        "    model.train()\n",
        "    batch_accuracies=[]\n",
        "    for images, labels in train_loader:\n",
        "        images = images.to(device)  #<<<<<<<<<< move data to device\n",
        "        labels = labels.to(device)  #<<<<<<<<<< move data to device\n",
        "        outputs = model(images)\n",
        "        loss = criterion(outputs, labels)\n",
        "        optimizer.zero_grad()\n",
        "        loss.backward()\n",
        "        optimizer.step()\n",
        "        # compute accuracy over the batch\n",
        "        # The output variable that's being used here is before optimization, need to use output after the optimizer and loss are applied - not comparing the same model in training and evaluation\n",
        "        batch_accuracies.append(compute_accuracy(outputs, labels))\n",
        "    history['epoch'].append(epoch)\n",
        "    history['train_accuracy'].append(sum(batch_accuracies) / len(batch_accuracies))\n",
        "\n",
        "    # Validation phase\n",
        "    print(f'epoch: {epoch+1}; time: {round(time.time())}')\n",
        "    # Evaluation mode - intended to not break the things that you've done\n",
        "    model.eval()\n",
        "    batch_accuracies=[]\n",
        "    with torch.no_grad():\n",
        "        for images, labels in test_loader:\n",
        "            images = images.to(device)  #<<<<<<<<<< move data to device\n",
        "            labels = labels.to(device)  #<<<<<<<<<< move data to device\n",
        "            outputs = model(images)\n",
        "            # compute accuracy over the batch\n",
        "            batch_accuracies.append(compute_accuracy(outputs, labels))\n",
        "        history['val_accuracy'].append(sum(batch_accuracies) / len(batch_accuracies))\n",
        "\n",
        "# First thing that's printed is the epoch for the training, the second is for validation"
      ],
      "metadata": {
        "id": "0m9K5d8a6e0d",
        "outputId": "a528f066-c171-493c-ce77-103a8c92771d",
        "colab": {
          "base_uri": "https://localhost:8080/"
        }
      },
      "execution_count": 15,
      "outputs": [
        {
          "output_type": "stream",
          "name": "stdout",
          "text": [
            "epoch: 1; time: 1747409641\n",
            "epoch: 1; time: 1747409654\n",
            "epoch: 2; time: 1747409656\n",
            "epoch: 2; time: 1747409668\n",
            "epoch: 3; time: 1747409670\n",
            "epoch: 3; time: 1747409682\n",
            "epoch: 4; time: 1747409684\n",
            "epoch: 4; time: 1747409696\n",
            "epoch: 5; time: 1747409698\n",
            "epoch: 5; time: 1747409710\n"
          ]
        }
      ]
    },
    {
      "cell_type": "code",
      "source": [
        "# accuracy plot\n",
        "plt.plot(history['epoch'], history['train_accuracy'], label='Train Accuracy')\n",
        "plt.plot(history['epoch'], history['val_accuracy'], label='Validation Accuracy')\n",
        "plt.xlabel('Epoch')\n",
        "plt.ylabel('Accuracy (%)')\n",
        "plt.title('Train and Validation Accuracy over Epochs')\n",
        "plt.legend()\n",
        "plt.grid(True)\n",
        "plt.show()"
      ],
      "metadata": {
        "colab": {
          "base_uri": "https://localhost:8080/",
          "height": 472
        },
        "id": "pNC9L7p976Xt",
        "outputId": "7bc2fdff-0527-4c0e-f975-2af0a42a9e44"
      },
      "execution_count": 17,
      "outputs": [
        {
          "output_type": "display_data",
          "data": {
            "text/plain": [
              "<Figure size 640x480 with 1 Axes>"
            ],
            "image/png": "[encoded data removed]"
          },
          "metadata": {}
        }
      ]
    },
    {
      "cell_type": "markdown",
      "source": [
        "**Question**:\n",
        "- From the visualization of that plot, do you think that 5 epochs are enough, or should the model train longer than that?\n",
        "- Can you find a reason for the validation curve to be consistently higher than the training curve, which in principle should not happen\n",
        "\n"
      ],
      "metadata": {
        "id": "QL_XQFSSxdja"
      }
    }
  ]
}