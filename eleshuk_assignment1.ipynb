{
  "nbformat": 4,
  "nbformat_minor": 0,
  "metadata": {
    "colab": {
      "provenance": [],
      "authorship_tag": "ABX9TyOjPsu2/xbRM9r1pspZ2Tyv",
      "include_colab_link": true
    },
    "kernelspec": {
      "name": "python3",
      "display_name": "Python 3"
    },
    "language_info": {
      "name": "python"
    }
  },
  "cells": [
    {
      "cell_type": "markdown",
      "metadata": {
        "id": "view-in-github",
        "colab_type": "text"
      },
      "source": [
        "<a href=\"https://colab.research.google.com/github/eleshuk/machine_learning/blob/main/eleshuk_assignment1.ipynb\" target=\"_parent\"><img src=\"https://colab.research.google.com/assets/colab-badge.svg\" alt=\"Open In Colab\"/></a>"
      ]
    },
    {
      "cell_type": "code",
      "execution_count": null,
      "metadata": {
        "id": "o31OerJlxvu1"
      },
      "outputs": [],
      "source": [
        "# Create a script to train a regression model to predict the response variable \"quality\" given the available explanatory variables for the Wine Quality data set (https://archive.ics.uci.edu/dataset/186/wine+quality) that contains 4898 examples."
      ]
    },
    {
      "cell_type": "code",
      "source": [],
      "metadata": {
        "id": "nHYn1ld4yMHq"
      },
      "execution_count": null,
      "outputs": []
    }
  ]
}